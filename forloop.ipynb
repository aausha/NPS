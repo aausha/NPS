{
 "cells": [
  {
   "cell_type": "markdown",
   "metadata": {},
   "source": [
    "# For loop "
   ]
  },
  {
   "cell_type": "markdown",
   "metadata": {},
   "source": [
    "- To iterate over the List. "
   ]
  },
  {
   "cell_type": "markdown",
   "metadata": {},
   "source": [
    "- for **int** in range():"
   ]
  },
  {
   "cell_type": "markdown",
   "metadata": {},
   "source": [
    "- range(end no)\n",
    "- range(start no.,end no.)\n",
    "- range(start no.,end no.,step)"
   ]
  },
  {
   "cell_type": "code",
   "execution_count": 1,
   "metadata": {},
   "outputs": [],
   "source": [
    "d=[1,2,3,4,5]"
   ]
  },
  {
   "cell_type": "code",
   "execution_count": 2,
   "metadata": {
    "scrolled": true
   },
   "outputs": [
    {
     "data": {
      "text/plain": [
       "[1, 2, 3, 4, 5, 108]"
      ]
     },
     "execution_count": 2,
     "metadata": {},
     "output_type": "execute_result"
    }
   ],
   "source": [
    "d.append(108)\n",
    "d"
   ]
  },
  {
   "cell_type": "code",
   "execution_count": 3,
   "metadata": {},
   "outputs": [
    {
     "data": {
      "text/plain": [
       "[0, 1, 2, 3, 4, 5, 6, 7, 8, 9]"
      ]
     },
     "execution_count": 3,
     "metadata": {},
     "output_type": "execute_result"
    }
   ],
   "source": [
    "L = []\n",
    "for i in range (10):\n",
    "    L.append(i)\n",
    "L"
   ]
  },
  {
   "cell_type": "code",
   "execution_count": 4,
   "metadata": {},
   "outputs": [
    {
     "data": {
      "text/plain": [
       "[0, 1, 2, 3, 4, 5, 6, 7, 8, 9, 10, 11, 12, 13, 14, 15, 16, 17, 18, 19]"
      ]
     },
     "execution_count": 4,
     "metadata": {},
     "output_type": "execute_result"
    }
   ],
   "source": [
    "L = []\n",
    "for i in range(20):\n",
    "    L.append(i)\n",
    "L"
   ]
  },
  {
   "cell_type": "code",
   "execution_count": 5,
   "metadata": {},
   "outputs": [
    {
     "data": {
      "text/plain": [
       "[2, 3, 4, 5, 6, 7, 8, 9]"
      ]
     },
     "execution_count": 5,
     "metadata": {},
     "output_type": "execute_result"
    }
   ],
   "source": [
    "a = []\n",
    "for k in range(2,10):\n",
    "    a.append(k)\n",
    "a"
   ]
  },
  {
   "cell_type": "code",
   "execution_count": 6,
   "metadata": {},
   "outputs": [
    {
     "data": {
      "text/plain": [
       "[2, 4, 6, 8, 10, 12, 14, 16, 18, 20]"
      ]
     },
     "execution_count": 6,
     "metadata": {},
     "output_type": "execute_result"
    }
   ],
   "source": [
    "b = []\n",
    "for i in range(2,21,2):\n",
    "    b.append(i)\n",
    "b"
   ]
  },
  {
   "cell_type": "code",
   "execution_count": 7,
   "metadata": {},
   "outputs": [
    {
     "data": {
      "text/plain": [
       "110"
      ]
     },
     "execution_count": 7,
     "metadata": {},
     "output_type": "execute_result"
    }
   ],
   "source": [
    "sum(b)"
   ]
  },
  {
   "cell_type": "code",
   "execution_count": 8,
   "metadata": {},
   "outputs": [
    {
     "data": {
      "text/plain": [
       "[2, 3, 4, 5, 6, 7, 8, 9, 2, 4, 6, 8, 10, 12, 14, 16, 18, 20]"
      ]
     },
     "execution_count": 8,
     "metadata": {},
     "output_type": "execute_result"
    }
   ],
   "source": [
    "a+b"
   ]
  },
  {
   "cell_type": "code",
   "execution_count": 9,
   "metadata": {},
   "outputs": [
    {
     "data": {
      "text/plain": [
       "154"
      ]
     },
     "execution_count": 9,
     "metadata": {},
     "output_type": "execute_result"
    }
   ],
   "source": [
    "sum(a+b)"
   ]
  },
  {
   "cell_type": "code",
   "execution_count": 10,
   "metadata": {},
   "outputs": [
    {
     "name": "stdout",
     "output_type": "stream",
     "text": [
      "[3]\n",
      "[3, 5]\n",
      "[3, 5, 7]\n",
      "[3, 5, 7, 9]\n",
      "[3, 5, 7, 9, 4]\n",
      "[3, 5, 7, 9, 4, 6]\n",
      "[3, 5, 7, 9, 4, 6, 8]\n",
      "[3, 5, 7, 9, 4, 6, 8, 10]\n",
      "[3, 5, 7, 9, 4, 6, 8, 10, 5]\n",
      "[3, 5, 7, 9, 4, 6, 8, 10, 5, 7]\n",
      "[3, 5, 7, 9, 4, 6, 8, 10, 5, 7, 9]\n",
      "[3, 5, 7, 9, 4, 6, 8, 10, 5, 7, 9, 11]\n",
      "[3, 5, 7, 9, 4, 6, 8, 10, 5, 7, 9, 11, 6]\n",
      "[3, 5, 7, 9, 4, 6, 8, 10, 5, 7, 9, 11, 6, 8]\n",
      "[3, 5, 7, 9, 4, 6, 8, 10, 5, 7, 9, 11, 6, 8, 10]\n",
      "[3, 5, 7, 9, 4, 6, 8, 10, 5, 7, 9, 11, 6, 8, 10, 12]\n"
     ]
    }
   ],
   "source": [
    "D = []\n",
    "for i in range(1,5):\n",
    "    for j in range(1,5):\n",
    "        D.append(i+2*j) \n",
    "        print(D)"
   ]
  },
  {
   "cell_type": "code",
   "execution_count": 11,
   "metadata": {},
   "outputs": [
    {
     "name": "stdout",
     "output_type": "stream",
     "text": [
      "[]\n",
      "[3, 5, 7, 9]\n",
      "[3, 5, 7, 9, 4, 6, 8, 10]\n",
      "[3, 5, 7, 9, 4, 6, 8, 10, 5, 7, 9, 11]\n"
     ]
    }
   ],
   "source": [
    "D = []\n",
    "for i in range(1,5):\n",
    "    print(D)\n",
    "    for j in range(1,5):\n",
    "        D.append(i+2*j) "
   ]
  },
  {
   "cell_type": "code",
   "execution_count": 12,
   "metadata": {},
   "outputs": [
    {
     "data": {
      "text/plain": [
       "[3, 5, 7, 9, 4, 6, 8, 10, 5, 7, 9, 11, 6, 8, 10, 12]"
      ]
     },
     "execution_count": 12,
     "metadata": {},
     "output_type": "execute_result"
    }
   ],
   "source": [
    "D = []\n",
    "for i in range(1,5):\n",
    "    for j in range(1,5):\n",
    "        D.append(i+2*j) \n",
    "D        "
   ]
  },
  {
   "cell_type": "code",
   "execution_count": 13,
   "metadata": {},
   "outputs": [
    {
     "name": "stdout",
     "output_type": "stream",
     "text": [
      "í= 1 j= 1 p= [3]\n",
      "í= 1 j= 2 p= [3, 5]\n",
      "í= 1 j= 3 p= [3, 5, 7]\n",
      "í= 1 j= 4 p= [3, 5, 7, 9]\n",
      "í= 2 j= 1 p= [3, 5, 7, 9, 4]\n",
      "í= 2 j= 2 p= [3, 5, 7, 9, 4, 6]\n",
      "í= 2 j= 3 p= [3, 5, 7, 9, 4, 6, 8]\n",
      "í= 2 j= 4 p= [3, 5, 7, 9, 4, 6, 8, 10]\n",
      "í= 3 j= 1 p= [3, 5, 7, 9, 4, 6, 8, 10, 5]\n",
      "í= 3 j= 2 p= [3, 5, 7, 9, 4, 6, 8, 10, 5, 7]\n",
      "í= 3 j= 3 p= [3, 5, 7, 9, 4, 6, 8, 10, 5, 7, 9]\n",
      "í= 3 j= 4 p= [3, 5, 7, 9, 4, 6, 8, 10, 5, 7, 9, 11]\n",
      "í= 4 j= 1 p= [3, 5, 7, 9, 4, 6, 8, 10, 5, 7, 9, 11, 6]\n",
      "í= 4 j= 2 p= [3, 5, 7, 9, 4, 6, 8, 10, 5, 7, 9, 11, 6, 8]\n",
      "í= 4 j= 3 p= [3, 5, 7, 9, 4, 6, 8, 10, 5, 7, 9, 11, 6, 8, 10]\n",
      "í= 4 j= 4 p= [3, 5, 7, 9, 4, 6, 8, 10, 5, 7, 9, 11, 6, 8, 10, 12]\n"
     ]
    }
   ],
   "source": [
    "p = [] # empty list l\n",
    "for i in range(1,5):\n",
    "    for j in range(1,5):\n",
    "        p.append(i+2*j) \n",
    "        print('í=',i,'j=',j,'p=',p)"
   ]
  },
  {
   "cell_type": "code",
   "execution_count": 14,
   "metadata": {},
   "outputs": [
    {
     "name": "stdout",
     "output_type": "stream",
     "text": [
      "[0, 10, 20, 30, 40, 50, 60, 70, 80, 90]\n"
     ]
    }
   ],
   "source": [
    "A = [10*k for k in range(10)]\n",
    "print(A)"
   ]
  },
  {
   "cell_type": "code",
   "execution_count": 15,
   "metadata": {},
   "outputs": [
    {
     "name": "stdout",
     "output_type": "stream",
     "text": [
      "[[0, 10, 20, 30], [1, 11, 21, 31], [2, 12, 22, 32]]\n"
     ]
    }
   ],
   "source": [
    "AA = [[10*x+y for x in range(4)] for y in range(3)]\n",
    "print(AA)"
   ]
  },
  {
   "cell_type": "code",
   "execution_count": 16,
   "metadata": {},
   "outputs": [
    {
     "name": "stdout",
     "output_type": "stream",
     "text": [
      "55\n"
     ]
    }
   ],
   "source": [
    "summ = 0\n",
    "for i in range(1,11):\n",
    "    summ = summ+i\n",
    "print(summ)"
   ]
  },
  {
   "cell_type": "code",
   "execution_count": 17,
   "metadata": {},
   "outputs": [
    {
     "name": "stdout",
     "output_type": "stream",
     "text": [
      "1\n",
      "2\n",
      "6\n",
      "24\n",
      "120\n",
      "720\n",
      "5040\n",
      "40320\n",
      "362880\n",
      "3628800\n"
     ]
    }
   ],
   "source": [
    "product = 1\n",
    "for i in range(1,11):\n",
    "    product = product*i\n",
    "    print(product)"
   ]
  },
  {
   "cell_type": "markdown",
   "metadata": {},
   "source": [
    "### Projectile\n",
    "- Range\n",
    "\\begin{equation}\n",
    "R=\\frac{u^2\\sin2\\theta}{2g}\n",
    "\\end{equation}\n",
    "- Max.Height\n",
    "\\begin{equation}\n",
    "H=\\frac{u^2\\sin^2\\theta}{2g}\n",
    "\\end{equation}"
   ]
  },
  {
   "cell_type": "markdown",
   "metadata": {},
   "source": [
    "- using list"
   ]
  },
  {
   "cell_type": "code",
   "execution_count": 18,
   "metadata": {},
   "outputs": [],
   "source": [
    "import numpy as np\n",
    "u=100\n",
    "g=9.8\n",
    "angle=[]\n",
    "Range=[]\n",
    "PI=np.pi\n",
    "for i in range(0,90):\n",
    "    angle.append(i)\n",
    "    Range.append(u**2*np.sin(2*PI*i/180)/(2*g))    "
   ]
  },
  {
   "cell_type": "markdown",
   "metadata": {},
   "source": [
    "- import matplotlib.pyplot as plt\n",
    "- %matplotlib inline\n",
    "- plt.plot(x,y)"
   ]
  },
  {
   "cell_type": "code",
   "execution_count": 19,
   "metadata": {},
   "outputs": [
    {
     "data": {
      "text/plain": [
       "Text(0.5, 1.0, 'Projectile')"
      ]
     },
     "execution_count": 19,
     "metadata": {},
     "output_type": "execute_result"
    },
    {
     "data": {
      "image/png": "[encoded data removed]",
      "text/plain": [
       "<Figure size 432x288 with 1 Axes>"
      ]
     },
     "metadata": {
      "needs_background": "light"
     },
     "output_type": "display_data"
    }
   ],
   "source": [
    "import matplotlib.pyplot as plt\n",
    "%matplotlib inline\n",
    "plt.plot(angle,Range)\n",
    "plt.xlabel('Angle')\n",
    "plt.ylabel('Range')\n",
    "plt.title('Projectile')"
   ]
  },
  {
   "cell_type": "markdown",
   "metadata": {},
   "source": [
    "- using dictionary"
   ]
  },
  {
   "cell_type": "code",
   "execution_count": 23,
   "metadata": {},
   "outputs": [],
   "source": [
    "angle = np.arange(1,90)\n",
    "M = {\"Range\": [u**2*np.sin(2*PI*x/180)/(2*g) for x in angle],\\\n",
    "     \"Max.height\": [u**2*np.sin(PI*x/180)**2/(2*g) for x in angle]}"
   ]
  },
  {
   "cell_type": "code",
   "execution_count": 21,
   "metadata": {},
   "outputs": [
    {
     "data": {
      "text/html": [
       "<div>\n",
       "<style scoped>\n",
       "    .dataframe tbody tr th:only-of-type {\n",
       "        vertical-align: middle;\n",
       "    }\n",
       "\n",
       "    .dataframe tbody tr th {\n",
       "        vertical-align: top;\n",
       "    }\n",
       "\n",
       "    .dataframe thead th {\n",
       "        text-align: right;\n",
       "    }\n",
       "</style>\n",
       "<table border=\"1\" class=\"dataframe\">\n",
       "  <thead>\n",
       "    <tr style=\"text-align: right;\">\n",
       "      <th></th>\n",
       "      <th>Range</th>\n",
       "      <th>Max.height</th>\n",
       "    </tr>\n",
       "  </thead>\n",
       "  <tbody>\n",
       "    <tr>\n",
       "      <th>0</th>\n",
       "      <td>17.805866</td>\n",
       "      <td>0.155401</td>\n",
       "    </tr>\n",
       "    <tr>\n",
       "      <th>1</th>\n",
       "      <td>35.590038</td>\n",
       "      <td>0.621416</td>\n",
       "    </tr>\n",
       "    <tr>\n",
       "      <th>2</th>\n",
       "      <td>53.330849</td>\n",
       "      <td>1.397476</td>\n",
       "    </tr>\n",
       "    <tr>\n",
       "      <th>3</th>\n",
       "      <td>71.006684</td>\n",
       "      <td>2.482636</td>\n",
       "    </tr>\n",
       "    <tr>\n",
       "      <th>4</th>\n",
       "      <td>88.596009</td>\n",
       "      <td>3.875573</td>\n",
       "    </tr>\n",
       "    <tr>\n",
       "      <th>...</th>\n",
       "      <td>...</td>\n",
       "      <td>...</td>\n",
       "    </tr>\n",
       "    <tr>\n",
       "      <th>84</th>\n",
       "      <td>88.596009</td>\n",
       "      <td>506.328508</td>\n",
       "    </tr>\n",
       "    <tr>\n",
       "      <th>85</th>\n",
       "      <td>71.006684</td>\n",
       "      <td>507.721446</td>\n",
       "    </tr>\n",
       "    <tr>\n",
       "      <th>86</th>\n",
       "      <td>53.330849</td>\n",
       "      <td>508.806606</td>\n",
       "    </tr>\n",
       "    <tr>\n",
       "      <th>87</th>\n",
       "      <td>35.590038</td>\n",
       "      <td>509.582666</td>\n",
       "    </tr>\n",
       "    <tr>\n",
       "      <th>88</th>\n",
       "      <td>17.805866</td>\n",
       "      <td>510.048680</td>\n",
       "    </tr>\n",
       "  </tbody>\n",
       "</table>\n",
       "<p>89 rows × 2 columns</p>\n",
       "</div>"
      ],
      "text/plain": [
       "        Range  Max.height\n",
       "0   17.805866    0.155401\n",
       "1   35.590038    0.621416\n",
       "2   53.330849    1.397476\n",
       "3   71.006684    2.482636\n",
       "4   88.596009    3.875573\n",
       "..        ...         ...\n",
       "84  88.596009  506.328508\n",
       "85  71.006684  507.721446\n",
       "86  53.330849  508.806606\n",
       "87  35.590038  509.582666\n",
       "88  17.805866  510.048680\n",
       "\n",
       "[89 rows x 2 columns]"
      ]
     },
     "execution_count": 21,
     "metadata": {},
     "output_type": "execute_result"
    }
   ],
   "source": [
    "import pandas as pd\n",
    "DF = pd.DataFrame(M)\n",
    "DF"
   ]
  },
  {
   "cell_type": "code",
   "execution_count": 22,
   "metadata": {},
   "outputs": [
    {
     "data": {
      "text/plain": [
       "Text(0.5, 1.0, 'Projectile')"
      ]
     },
     "execution_count": 22,
     "metadata": {},
     "output_type": "execute_result"
    },
    {
     "data": {
      "image/png": "[encoded data removed]",
      "text/plain": [
       "<Figure size 432x288 with 1 Axes>"
      ]
     },
     "metadata": {
      "needs_background": "light"
     },
     "output_type": "display_data"
    }
   ],
   "source": [
    "DF.plot()\n",
    "plt.xlabel('Angle(degree)')\n",
    "plt.ylabel('Distance(m)')\n",
    "plt.title('Projectile')"
   ]
  },
  {
   "cell_type": "code",
   "execution_count": null,
   "metadata": {},
   "outputs": [],
   "source": []
  }
 ],
 "metadata": {
  "kernelspec": {
   "display_name": "Python 3",
   "language": "python",
   "name": "python3"
  },
  "language_info": {
   "codemirror_mode": {
    "name": "ipython",
    "version": 3
   },
   "file_extension": ".py",
   "mimetype": "text/x-python",
   "name": "python",
   "nbconvert_exporter": "python",
   "pygments_lexer": "ipython3",
   "version": "3.7.6"
  }
 },
 "nbformat": 4,
 "nbformat_minor": 2
}
